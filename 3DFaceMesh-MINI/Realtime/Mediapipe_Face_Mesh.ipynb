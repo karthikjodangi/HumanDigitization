{
  "cells": [
    {
      "cell_type": "markdown",
      "metadata": {},
      "source": [
        "### Necessary Libraries"
      ]
    },
    {
      "cell_type": "code",
      "execution_count": null,
      "metadata": {},
      "outputs": [],
      "source": [
        "import mediapipe as mp\n",
        "import os\n",
        "import glob\n",
        "import cv2\n",
        "import numpy as np\n",
        "import matplotlib.pyplot as plt"
      ]
    },
    {
      "cell_type": "markdown",
      "metadata": {},
      "source": [
        "### Image Merger "
      ]
    },
    {
      "cell_type": "code",
      "execution_count": 6,
      "metadata": {
        "id": "ws9UT4arNf74"
      },
      "outputs": [],
      "source": [
        "#function to merge two frames side by side(i.e. input and output frames )\n",
        "\n",
        "def addFrame(img1,img2):\n",
        "    r1,c1 = img1.shape[0:2]\n",
        "    r2,c2 = img2.shape[0:2]\n",
        "\n",
        "    result = np.zeros((r2,c1+c2,3),dtype=np.uint8)\n",
        "\n",
        "    # print(result.shape)\n",
        "\n",
        "    result[:,:c1,:] = img1\n",
        "    result[:,c1:c1+c2,:] = img2\n",
        "\n",
        "    return result"
      ]
    },
    {
      "cell_type": "markdown",
      "metadata": {},
      "source": [
        "##### Video Input  - WebCam"
      ]
    },
    {
      "cell_type": "code",
      "execution_count": 9,
      "metadata": {
        "colab": {
          "base_uri": "https://localhost:8080/"
        },
        "id": "iUgfWw8xNf75",
        "outputId": "84bea2b2-913c-4b68-c885-c822ee85e4ff"
      },
      "outputs": [],
      "source": [
        "\n",
        "#video file\n",
        "video = cv2.VideoCapture(0)\n",
        "\n",
        "#mediapipe objects\n",
        "facemesh = mp.solutions.face_mesh\n",
        "draw = mp.solutions.drawing_utils\n",
        "mp_drawing_styles = mp.solutions.drawing_styles\n",
        "\n",
        "landmark1 = []\n",
        "landmarks = []\n",
        "face = facemesh.FaceMesh(\n",
        "    static_image_mode=True,\n",
        "    min_tracking_confidence=0.6,\n",
        "    min_detection_confidence=0.6,\n",
        "    refine_landmarks=True\n",
        ")\n",
        "\n",
        "#process each frame\n",
        "while True:\n",
        "    ret, frame = video.read()\n",
        "\n",
        "    if not ret:\n",
        "        print('Video processing complete.')\n",
        "        break  \n",
        "\n",
        "    height, width, channels = frame.shape\n",
        "\n",
        "    #mediapipe requires RGB format\n",
        "    rgb = cv2.cvtColor(frame, cv2.COLOR_BGR2RGB)\n",
        "\n",
        "\n",
        "    #landmarks acquired in op\n",
        "    op = face.process(rgb)\n",
        "    \n",
        "    #if no face detected\n",
        "    if not op.multi_face_landmarks:\n",
        "        continue\n",
        "\n",
        "    #extracting face landmarks\n",
        "    if op.multi_face_landmarks:\n",
        "        for i in op.multi_face_landmarks:\n",
        "            if(i.landmark[0] is not None and i.landmark[1] is not None):\n",
        "\n",
        "                landmarks = []\n",
        "                landmarks.append(i.landmark[0].y * 480)\n",
        "                landmarks.append(i.landmark[1].x * 640)\n",
        "                landmarks.append(i.landmark[2].z)\n",
        "                landmark1.append(landmarks)\n",
        "\n",
        "                #Landmarks in the original frame\n",
        "                # draw.draw_landmarks(\n",
        "                #     image=frame,\n",
        "                #     landmark_list=i,\n",
        "                #     connections=facemesh.FACEMESH_TESSELATION,\n",
        "                #     landmark_drawing_spec=None,\n",
        "                #     connection_drawing_spec=mp_drawing_styles.get_default_face_mesh_tesselation_style()\n",
        "                # )\n",
        "                # draw.draw_landmarks(\n",
        "                #     image=frame,\n",
        "                #     landmark_list=i,\n",
        "                #     connections=facemesh.FACEMESH_CONTOURS,\n",
        "                #     landmark_drawing_spec=None,\n",
        "                #     connection_drawing_spec=mp_drawing_styles.get_default_face_mesh_contours_style()\n",
        "                # )\n",
        "                # draw.draw_landmarks(\n",
        "                #     image=frame,\n",
        "                #     landmark_list=i,\n",
        "                #     connections=facemesh.FACEMESH_IRISES,\n",
        "                #     landmark_drawing_spec=None,\n",
        "                #     connection_drawing_spec=mp_drawing_styles.get_default_face_mesh_iris_connections_style()\n",
        "                # )\n",
        "\n",
        "                #cv2.imshow(\"Original Video\", frame)\n",
        "\n",
        "                #frame_filename = f\"{output_folder}/frame_{int(video.get(cv2.CAP_PROP_POS_FRAMES))}.png\"\n",
        "\n",
        "\n",
        "                #separate window for the face mesh\n",
        "                mesh_window = np.zeros_like(frame)\n",
        "                draw.draw_landmarks(\n",
        "                    image=mesh_window,\n",
        "                    landmark_list=op.multi_face_landmarks[0],\n",
        "                    connections=facemesh.FACEMESH_TESSELATION,\n",
        "                    landmark_drawing_spec=None,\n",
        "                    connection_drawing_spec=mp_drawing_styles.get_default_face_mesh_tesselation_style()\n",
        "                )\n",
        "                draw.draw_landmarks(\n",
        "                    image=mesh_window,\n",
        "                    landmark_list=op.multi_face_landmarks[0],\n",
        "                    connections=facemesh.FACEMESH_CONTOURS,\n",
        "                    landmark_drawing_spec=None,\n",
        "                    connection_drawing_spec=mp_drawing_styles.get_default_face_mesh_contours_style()\n",
        "                )\n",
        "                draw.draw_landmarks(\n",
        "                    image=mesh_window,\n",
        "                    landmark_list=op.multi_face_landmarks[0],\n",
        "                    connections=facemesh.FACEMESH_IRISES,\n",
        "                    landmark_drawing_spec=None,\n",
        "                    connection_drawing_spec=mp_drawing_styles.get_default_face_mesh_iris_connections_style()\n",
        "                )\n",
        "\n",
        "                #cv2.imshow(\"Face Mesh\", mesh_window)\n",
        "\n",
        "                windowimage = addFrame(mesh_window,frame)\n",
        "\n",
        "                cv2.imshow('MediaPipe Face Mesh', cv2.flip(windowimage, 1))\n",
        "\n",
        "\n",
        "    # Esc to break loop\n",
        "    if cv2.waitKey(1) == 27:\n",
        "        video.release()\n",
        "        cv2.destroyAllWindows()\n",
        "        break\n",
        "\n",
        "\n",
        "\n",
        "\n",
        "\n"
      ]
    }
  ],
  "metadata": {
    "colab": {
      "provenance": []
    },
    "kernelspec": {
      "display_name": "Python 3",
      "name": "python3"
    },
    "language_info": {
      "codemirror_mode": {
        "name": "ipython",
        "version": 3
      },
      "file_extension": ".py",
      "mimetype": "text/x-python",
      "name": "python",
      "nbconvert_exporter": "python",
      "pygments_lexer": "ipython3",
      "version": "3.11.4"
    }
  },
  "nbformat": 4,
  "nbformat_minor": 0
}
